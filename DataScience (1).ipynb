{
 "cells": [
  {
   "cell_type": "markdown",
   "metadata": {},
   "source": [
    "Name: Olal Derrick \n",
    "Data Science Code \n",
    "Consider a dataset providing information on the functionality of infrastructure resources,\n",
    "for each water point it includes the name of the village it is in and its functional state.\n",
    "Implement a data processing module in python which takes a dataset URL as input and\n",
    "returns:\n",
    "● The number of water points that are functional,\n",
    "● The number of water points per community,\n",
    "● The rank for each community by the percentage of broken water points.\n",
    "There should be a top level object or function calculate(“http://...”), which returns a data\n",
    "structure with the above information, something like:\n",
    "\n",
    "But that’s just a suggestion and we can think of alternative, maybe better, data structures\n",
    "to use.\n",
    "We will use a water point dataset that contains many columns, the relevant ones are:\n",
    "communities_villages, water_functioning\n",
    "The data can be found on this URL\n",
    "When your solution is complete, upload it to github (if you do not have a github account\n",
    "you may create a free one). Submit your solution by sending us a link to it on github."
   ]
  },
  {
   "cell_type": "code",
   "execution_count": 2,
   "metadata": {
    "id": "-AN4ef2d1nMX"
   },
   "outputs": [],
   "source": [
    "#import the required  libraries \n",
    "import pandas as pd\n",
    "import urllib.request, json\n",
    "import numpy as np"
   ]
  },
  {
   "cell_type": "code",
   "execution_count": 3,
   "metadata": {
    "id": "CbR3oNnPdF2M"
   },
   "outputs": [],
   "source": [
    "#Defining the class\n",
    "class waterPoints:\n",
    "  def __init__(self,url):\n",
    "    # Read data from the url\n",
    "    self.url= urllib.request.urlopen(str(url))\n",
    "    # Read data into a pandas daraframe.\n",
    "    self.df = pd.read_json( self.url.read())\n",
    "    # Filter the number of functional water points\n",
    "    self.functional =self.df['water_functioning'][self.df['water_functioning'] ==\"yes\"]\n",
    "\n",
    "   # The number of functional water points\n",
    "  def functional_water_points (self):\n",
    "    print(\"number_functional: \" , self.functional.size)\n",
    "\n",
    "  #The number of water points per community\n",
    "  def wps_community (self):\n",
    "    wp= self.df.groupby(\"communities_villages\").size()\n",
    "    print(\"number_water_points: \")\n",
    "    print()\n",
    "    print(wp)\n",
    "\n",
    "  #Rank communities by broken water points within\n",
    "  def broken_water_points (self):\n",
    "    #filter by broken points\n",
    "    flt = self.df['water_point_condition'] ==\"broken\"\n",
    "    broken_pts_df= self.df[flt]\n",
    "    #create dataframe using pandas \n",
    "    cbrk_df= broken_pts_df.groupby(\"communities_villages\").size().to_frame()\n",
    "    cbrk_df=cbrk_df.rename(columns={0:'Percentage_Broken_Points'})\n",
    "    number_broken = cbrk_df['Percentage_Broken_Points'].sum()\n",
    "    cbrk_df['Percentage_Broken_Points'] = cbrk_df['Percentage_Broken_Points'].map(lambda  x: (x/number_broken)*100)\n",
    "    print()\n",
    "    print(\"community ranking: \")\n",
    "    print(cbrk_df.sort_values(ascending=False, by='Percentage_Broken_Points'))\n",
    " \n",
    "\n",
    "  \n"
   ]
  },
  {
   "cell_type": "code",
   "execution_count": 4,
   "metadata": {
    "colab": {
     "base_uri": "https://localhost:8080/"
    },
    "id": "ApochIpQiByc",
    "outputId": "b2fe619b-fdcd-4dc0-d1c1-ca2f31317551"
   },
   "outputs": [
    {
     "name": "stdout",
     "output_type": "stream",
     "text": [
      "number_functional:  623\n",
      "number_water_points: \n",
      "\n",
      "communities_villages\n",
      "Abanyeri        4\n",
      "Akpari-yeri     3\n",
      "Alavanyo        3\n",
      "Arigu          12\n",
      "Badomsa        27\n",
      "               ..\n",
      "Zogsa           6\n",
      "Zua            28\n",
      "Zuedema        18\n",
      "Zukpeni         6\n",
      "Zundem         30\n",
      "Length: 65, dtype: int64\n",
      "\n",
      "community ranking: \n",
      "                      Percentage_Broken_Points\n",
      "communities_villages                          \n",
      "Nayoku                                    15.0\n",
      "Kubore                                    10.0\n",
      "Loagri_1_                                 10.0\n",
      "Arigu                                      5.0\n",
      "Namgurima                                  5.0\n",
      "Gbaarigu                                   5.0\n",
      "Zanwara                                    5.0\n",
      "Vundema                                    5.0\n",
      "Soo                                        5.0\n",
      "Bandem                                     5.0\n",
      "Zogsa                                      2.5\n",
      "Tantala                                    2.5\n",
      "Nyankpiensa                                2.5\n",
      "Longsa                                     2.5\n",
      "Luisa                                      2.5\n",
      "Kpatarigu                                  2.5\n",
      "Kanwaasa                                   2.5\n",
      "Kaasa                                      2.5\n",
      "Jagsa                                      2.5\n",
      "Guuta                                      2.5\n",
      "Banyangsa                                  2.5\n",
      "Zukpeni                                    2.5\n"
     ]
    }
   ],
   "source": [
    "url_string = \"https://raw.githubusercontent.com/onaio/ona-tech/master/data/water_points.json\"\n",
    "test = waterPoints(url_string)\n",
    "test.functional_water_points()\n",
    "test.wps_community()\n",
    "test.broken_water_points()"
   ]
  },
  {
   "cell_type": "code",
   "execution_count": null,
   "metadata": {},
   "outputs": [],
   "source": []
  }
 ],
 "metadata": {
  "colab": {
   "name": "Untitled17.ipynb",
   "provenance": []
  },
  "kernelspec": {
   "display_name": "Python 3",
   "language": "python",
   "name": "python3"
  },
  "language_info": {
   "codemirror_mode": {
    "name": "ipython",
    "version": 3
   },
   "file_extension": ".py",
   "mimetype": "text/x-python",
   "name": "python",
   "nbconvert_exporter": "python",
   "pygments_lexer": "ipython3",
   "version": "3.9.2"
  }
 },
 "nbformat": 4,
 "nbformat_minor": 1
}
